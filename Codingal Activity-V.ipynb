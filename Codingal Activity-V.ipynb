{
 "cells": [
  {
   "cell_type": "code",
   "execution_count": 1,
   "id": "266e8dd1",
   "metadata": {},
   "outputs": [
    {
     "name": "stdout",
     "output_type": "stream",
     "text": [
      ">0 f([0.44986079]) = 0.20237\n",
      ">1 f([0.35988863]) = 0.12952\n",
      ">2 f([0.2879109]) = 0.08289\n",
      ">3 f([0.23032872]) = 0.05305\n",
      ">4 f([0.18426298]) = 0.03395\n",
      ">5 f([0.14741038]) = 0.02173\n",
      ">6 f([0.11792831]) = 0.01391\n",
      ">7 f([0.09434265]) = 0.00890\n",
      ">8 f([0.07547412]) = 0.00570\n",
      ">9 f([0.06037929]) = 0.00365\n",
      ">10 f([0.04830343]) = 0.00233\n",
      ">11 f([0.03864275]) = 0.00149\n",
      ">12 f([0.0309142]) = 0.00096\n",
      ">13 f([0.02473136]) = 0.00061\n",
      ">14 f([0.01978509]) = 0.00039\n",
      ">15 f([0.01582807]) = 0.00025\n",
      ">16 f([0.01266246]) = 0.00016\n",
      ">17 f([0.01012996]) = 0.00010\n",
      ">18 f([0.00810397]) = 0.00007\n",
      ">19 f([0.00648318]) = 0.00004\n",
      ">20 f([0.00518654]) = 0.00003\n",
      ">21 f([0.00414923]) = 0.00002\n",
      ">22 f([0.00331939]) = 0.00001\n",
      ">23 f([0.00265551]) = 0.00001\n",
      ">24 f([0.00212441]) = 0.00000\n",
      ">25 f([0.00169953]) = 0.00000\n",
      ">26 f([0.00135962]) = 0.00000\n",
      ">27 f([0.0010877]) = 0.00000\n",
      ">28 f([0.00087016]) = 0.00000\n",
      ">29 f([0.00069613]) = 0.00000\n"
     ]
    },
    {
     "data": {
      "image/png": "[encoded data removed]",
      "text/plain": [
       "<Figure size 432x288 with 1 Axes>"
      ]
     },
     "metadata": {
      "needs_background": "light"
     },
     "output_type": "display_data"
    }
   ],
   "source": [
    "from numpy import asarray\n",
    "from numpy import arange\n",
    "from numpy.random import rand\n",
    "from matplotlib import pyplot\n",
    " \n",
    "# objective function\n",
    "def objective(x):\n",
    "\treturn x**2.0\n",
    " \n",
    "# derivative of objective function\n",
    "def derivative(x):\n",
    "\treturn x * 2.0\n",
    " \n",
    "# gradient descent algorithm\n",
    "def gradient_descent(objective, derivative, bounds, n_iter, step_size):\n",
    "\t# track all solutions\n",
    "\tsolutions, scores = list(), list()\n",
    "\t# generate an initial point\n",
    "\tsolution = bounds[:, 0] + rand(len(bounds)) * (bounds[:, 1] - bounds[:, 0])\n",
    "\t# run the gradient descent\n",
    "\tfor i in range(n_iter):\n",
    "\t\t# calculate gradient\n",
    "\t\tgradient = derivative(solution)\n",
    "\t\t# take a step\n",
    "\t\tsolution = solution - step_size * gradient\n",
    "\t\t# evaluate candidate point\n",
    "\t\tsolution_eval = objective(solution)\n",
    "\t\t# store solution\n",
    "\t\tsolutions.append(solution)\n",
    "\t\tscores.append(solution_eval)\n",
    "\t\t# report progress\n",
    "\t\tprint('>%d f(%s) = %.5f' % (i, solution, solution_eval))\n",
    "\treturn [solutions, scores]\n",
    " \n",
    "# define range for input\n",
    "bounds = asarray([[-1.0, 1.0]])\n",
    "# define the total iterations\n",
    "n_iter = 30\n",
    "# define the step size\n",
    "step_size = 0.1\n",
    "# perform the gradient descent search\n",
    "solutions, scores = gradient_descent(objective, derivative, bounds, n_iter, step_size)\n",
    "# sample input range uniformly at 0.1 increments\n",
    "inputs = arange(bounds[0,0], bounds[0,1]+0.1, 0.1)\n",
    "# compute targets\n",
    "results = objective(inputs)\n",
    "# create a line plot of input vs result\n",
    "pyplot.plot(inputs, results)\n",
    "# plot the solutions found\n",
    "pyplot.plot(solutions, scores, '.-', color='red')\n",
    "# show the plot\n",
    "pyplot.show()"
   ]
  },
  {
   "cell_type": "code",
   "execution_count": null,
   "id": "8f2645e6",
   "metadata": {},
   "outputs": [],
   "source": []
  }
 ],
 "metadata": {
  "kernelspec": {
   "display_name": "Python 3",
   "language": "python",
   "name": "python3"
  },
  "language_info": {
   "codemirror_mode": {
    "name": "ipython",
    "version": 3
   },
   "file_extension": ".py",
   "mimetype": "text/x-python",
   "name": "python",
   "nbconvert_exporter": "python",
   "pygments_lexer": "ipython3",
   "version": "3.8.10"
  }
 },
 "nbformat": 4,
 "nbformat_minor": 5
}
